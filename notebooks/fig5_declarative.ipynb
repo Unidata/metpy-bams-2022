{
 "cells": [
  {
   "cell_type": "markdown",
   "id": "6998ee0b",
   "metadata": {},
   "source": [
    "# Figure 5\n",
    "## Comparison of figure generation with and without Declarative interface\n",
    "Adapted from https://github.com/Unidata/python-training/blob/master/pages/gallery/Declarative_300hPa.ipynb.\n",
    "As an addendum, we generate the identical figure without Declarative. These code snippets are used to generate Figure 4."
   ]
  },
  {
   "cell_type": "markdown",
   "id": "f3923a92",
   "metadata": {},
   "source": [
    "### With Declarative\n",
    "Here we generate the example figure using MetPy's Declarative plotting interface."
   ]
  },
  {
   "cell_type": "code",
   "execution_count": null,
   "id": "4729d3e0",
   "metadata": {},
   "outputs": [],
   "source": [
    "import xarray as xr\n",
    "\n",
    "import metpy.calc as mpcalc\n",
    "\n",
    "# get_test_data is used for internal MetPy testing and not supported publicly\n",
    "from metpy.cbook import get_test_data\n",
    "from metpy.units import units"
   ]
  },
  {
   "cell_type": "markdown",
   "id": "3bf0175a",
   "metadata": {},
   "source": [
    "Read GFS output valid 1200 UTC 31 October 2010, provided as part of MetPy's internal testing data."
   ]
  },
  {
   "cell_type": "code",
   "execution_count": null,
   "id": "a8417bae",
   "metadata": {},
   "outputs": [],
   "source": [
    "data = xr.open_dataset(get_test_data(\"GFS_test.nc\", False)).metpy.parse_cf().squeeze()"
   ]
  },
  {
   "cell_type": "code",
   "execution_count": null,
   "id": "9ad2a622",
   "metadata": {},
   "outputs": [],
   "source": [
    "dt_string = data[\"time\"].dt.strftime(\"%Y-%m-%d %T\").data"
   ]
  },
  {
   "cell_type": "code",
   "execution_count": null,
   "id": "de43abbb",
   "metadata": {},
   "outputs": [],
   "source": [
    "ds = data.metpy.sel(lat=slice(70, 10), lon=slice(360 - 150, 360 - 55))"
   ]
  },
  {
   "cell_type": "code",
   "execution_count": null,
   "id": "2f286658",
   "metadata": {
    "lines_to_next_cell": 2
   },
   "outputs": [],
   "source": [
    "ds[\"wind_speed\"] = mpcalc.wind_speed(\n",
    "    ds[\"u-component_of_wind_isobaric\"], ds[\"v-component_of_wind_isobaric\"]\n",
    ")"
   ]
  },
  {
   "cell_type": "code",
   "execution_count": null,
   "id": "e49f0caf",
   "metadata": {},
   "outputs": [],
   "source": [
    "from metpy.plots import BarbPlot, ContourPlot, FilledContourPlot, MapPanel, PanelContainer"
   ]
  },
  {
   "cell_type": "code",
   "execution_count": null,
   "id": "3fce54ac",
   "metadata": {},
   "outputs": [],
   "source": [
    "contour = ContourPlot()\n",
    "contour.data = ds\n",
    "contour.field = \"Geopotential_height_isobaric\"\n",
    "contour.level = 300 * units.hPa\n",
    "contour.contours = list(range(0, 10000, 120))\n",
    "contour.clabels = True"
   ]
  },
  {
   "cell_type": "code",
   "execution_count": null,
   "id": "11082ff5",
   "metadata": {},
   "outputs": [],
   "source": [
    "cfill = FilledContourPlot()\n",
    "cfill.data = ds\n",
    "cfill.field = \"wind_speed\"\n",
    "cfill.level = 300 * units.hPa\n",
    "cfill.contours = list(range(10, 201, 20))\n",
    "cfill.colormap = \"BuPu\"\n",
    "cfill.colorbar = \"horizontal\"\n",
    "cfill.plot_units = \"knot\""
   ]
  },
  {
   "cell_type": "code",
   "execution_count": null,
   "id": "eedfc25e",
   "metadata": {},
   "outputs": [],
   "source": [
    "barbs = BarbPlot()\n",
    "barbs.data = ds\n",
    "barbs.field = [\"u-component_of_wind_isobaric\", \"v-component_of_wind_isobaric\"]\n",
    "barbs.level = 300 * units.hPa\n",
    "barbs.skip = (3, 3)\n",
    "barbs.plot_units = \"knot\""
   ]
  },
  {
   "cell_type": "code",
   "execution_count": null,
   "id": "a0af330d",
   "metadata": {},
   "outputs": [],
   "source": [
    "panel = MapPanel()\n",
    "panel.area = [-125, -74, 20, 55]\n",
    "panel.projection = \"lcc\"\n",
    "panel.layers = [\"states\", \"coastline\", \"borders\"]\n",
    "panel.title = f\"{cfill.level:~P} Heights and Wind Speed at {dt_string}\"\n",
    "panel.plots = [cfill, contour, barbs]"
   ]
  },
  {
   "cell_type": "code",
   "execution_count": null,
   "id": "a0c30b9f",
   "metadata": {},
   "outputs": [],
   "source": [
    "pc = PanelContainer()\n",
    "pc.size = (15, 15)\n",
    "pc.panels = [panel]"
   ]
  },
  {
   "cell_type": "code",
   "execution_count": null,
   "id": "a4bbf86c",
   "metadata": {},
   "outputs": [],
   "source": [
    "pc.save(\"images/fig5_declarative.png\", dpi=600, bbox_inches=\"tight\")"
   ]
  },
  {
   "cell_type": "markdown",
   "id": "bdabcbd1",
   "metadata": {},
   "source": [
    "### Without Declarative\n",
    "Here, we re-create an identical figure to above, but through \"imperative\" Matplotlib syntax."
   ]
  },
  {
   "cell_type": "code",
   "execution_count": null,
   "id": "1eff8736",
   "metadata": {},
   "outputs": [],
   "source": [
    "import cartopy.crs as ccrs\n",
    "import cartopy.feature as cfeature\n",
    "import matplotlib.pyplot as plt"
   ]
  },
  {
   "cell_type": "code",
   "execution_count": null,
   "id": "8c2eba3d",
   "metadata": {},
   "outputs": [],
   "source": [
    "level = 300 * units.hPa"
   ]
  },
  {
   "cell_type": "code",
   "execution_count": null,
   "id": "5530423f",
   "metadata": {},
   "outputs": [],
   "source": [
    "ds_subset = ds[\n",
    "    [\n",
    "        \"Geopotential_height_isobaric\",\n",
    "        \"wind_speed\",\n",
    "        \"u-component_of_wind_isobaric\",\n",
    "        \"v-component_of_wind_isobaric\",\n",
    "    ]\n",
    "].metpy.sel(isobaric3=level)"
   ]
  },
  {
   "cell_type": "code",
   "execution_count": null,
   "id": "96a2742d",
   "metadata": {},
   "outputs": [],
   "source": [
    "plot_crs = ccrs.LambertConformal(\n",
    "    central_latitude=40, central_longitude=-100, standard_parallels=[30, 60]\n",
    ")"
   ]
  },
  {
   "cell_type": "code",
   "execution_count": null,
   "id": "aafe03a8",
   "metadata": {},
   "outputs": [],
   "source": [
    "data_crs = ds_subset[\"metpy_crs\"].metpy.cartopy_crs"
   ]
  },
  {
   "cell_type": "code",
   "execution_count": null,
   "id": "6fbe7a13",
   "metadata": {},
   "outputs": [],
   "source": [
    "fig = plt.figure(figsize=(15, 15))\n",
    "ax = fig.add_subplot(projection=plot_crs)"
   ]
  },
  {
   "cell_type": "code",
   "execution_count": null,
   "id": "0ace4fa9",
   "metadata": {},
   "outputs": [],
   "source": [
    "c = ax.contour(\n",
    "    ds_subset[\"lon\"],\n",
    "    ds_subset[\"lat\"],\n",
    "    ds_subset[\"Geopotential_height_isobaric\"],\n",
    "    levels=list(range(0, 10000, 120)),\n",
    "    transform=data_crs,\n",
    "    colors=\"k\",\n",
    ")"
   ]
  },
  {
   "cell_type": "code",
   "execution_count": null,
   "id": "5936f978",
   "metadata": {},
   "outputs": [],
   "source": [
    "c.clabel(inline=1, fmt=\"%.0f\", inline_spacing=8, use_clabeltext=True)"
   ]
  },
  {
   "cell_type": "code",
   "execution_count": null,
   "id": "e6e869dc",
   "metadata": {},
   "outputs": [],
   "source": [
    "cf = ax.contourf(\n",
    "    ds_subset[\"lon\"],\n",
    "    ds_subset[\"lat\"],\n",
    "    ds_subset[\"wind_speed\"].metpy.convert_units(\"knots\"),\n",
    "    levels=list(range(10, 201, 20)),\n",
    "    cmap=\"BuPu\",\n",
    "    transform=data_crs,\n",
    ")"
   ]
  },
  {
   "cell_type": "code",
   "execution_count": null,
   "id": "c8422856",
   "metadata": {},
   "outputs": [],
   "source": [
    "fig.colorbar(cf, orientation=\"horizontal\", pad=0, aspect=50)"
   ]
  },
  {
   "cell_type": "code",
   "execution_count": null,
   "id": "4653d647",
   "metadata": {},
   "outputs": [],
   "source": [
    "x_slice = slice(None, None, 3)\n",
    "y_slice = slice(None, None, 3)"
   ]
  },
  {
   "cell_type": "code",
   "execution_count": null,
   "id": "895d9598",
   "metadata": {},
   "outputs": [],
   "source": [
    "ds_subset = ds_subset.sel(lon=x_slice, lat=y_slice)"
   ]
  },
  {
   "cell_type": "code",
   "execution_count": null,
   "id": "e59f27cf",
   "metadata": {},
   "outputs": [],
   "source": [
    "ax.barbs(\n",
    "    ds_subset[\"lon\"],\n",
    "    ds_subset[\"lat\"],\n",
    "    ds_subset[\"u-component_of_wind_isobaric\"].metpy.convert_units(\"knots\").data,\n",
    "    ds_subset[\"v-component_of_wind_isobaric\"].metpy.convert_units(\"knots\").data,\n",
    "    pivot=\"middle\",\n",
    "    transform=data_crs,\n",
    ")"
   ]
  },
  {
   "cell_type": "code",
   "execution_count": null,
   "id": "ecaee831",
   "metadata": {},
   "outputs": [],
   "source": [
    "ax.set_extent((-125, -74, 20, 55), ccrs.PlateCarree())"
   ]
  },
  {
   "cell_type": "code",
   "execution_count": null,
   "id": "8b474950",
   "metadata": {},
   "outputs": [],
   "source": [
    "ax.add_feature(cfeature.BORDERS)\n",
    "ax.add_feature(cfeature.COASTLINE)\n",
    "ax.add_feature(cfeature.STATES)"
   ]
  },
  {
   "cell_type": "code",
   "execution_count": null,
   "id": "380fc0dc",
   "metadata": {},
   "outputs": [],
   "source": [
    "ax.set_title(f\"{level:~P} Heights and Wind Speed at {dt_string}\")"
   ]
  }
 ],
 "metadata": {
  "jupytext": {
   "cell_metadata_filter": "-all",
   "main_language": "python",
   "notebook_metadata_filter": "-all"
  }
 },
 "nbformat": 4,
 "nbformat_minor": 5
}
