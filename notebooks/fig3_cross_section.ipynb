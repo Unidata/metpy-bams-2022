{
 "cells": [
  {
   "cell_type": "markdown",
   "id": "eba90a8a",
   "metadata": {
    "lines_to_next_cell": 2
   },
   "source": [
    "# Figure 3\n",
    "## Using `cross_section` to sample data along a great circle slice.\n",
    "Adapted from https://unidata.github.io/MetPy/v1.3/examples/cross_section.html."
   ]
  },
  {
   "cell_type": "code",
   "execution_count": null,
   "id": "d52efe57",
   "metadata": {},
   "outputs": [],
   "source": [
    "import cartopy.crs as ccrs\n",
    "import cartopy.feature as cfeature\n",
    "import matplotlib.pyplot as plt\n",
    "import numpy as np\n",
    "import xarray as xr\n",
    "from matplotlib import rcParams\n",
    "\n",
    "import metpy.calc as mpcalc\n",
    "\n",
    "# get_test_data is used for internal MetPy testing and not supported publicly\n",
    "from metpy.cbook import get_test_data\n",
    "from metpy.interpolate import cross_section"
   ]
  },
  {
   "cell_type": "markdown",
   "id": "15345945",
   "metadata": {},
   "source": [
    "We update plot font sizes for final figure legibility."
   ]
  },
  {
   "cell_type": "code",
   "execution_count": null,
   "id": "e703c887",
   "metadata": {},
   "outputs": [],
   "source": [
    "label_sizes = {\"xtick.labelsize\": 12, \"ytick.labelsize\": 12, \"axes.labelsize\": 14}"
   ]
  },
  {
   "cell_type": "code",
   "execution_count": null,
   "id": "d4df25f6",
   "metadata": {
    "lines_to_next_cell": 2
   },
   "outputs": [],
   "source": [
    "rcParams.update(label_sizes)"
   ]
  },
  {
   "cell_type": "markdown",
   "id": "a4b5fda3",
   "metadata": {},
   "source": [
    "Read NARR data valid 1800 UTC 4 April 1987, provided as part of MetPy's internal testing data."
   ]
  },
  {
   "cell_type": "code",
   "execution_count": null,
   "id": "22beb84c",
   "metadata": {
    "lines_to_next_cell": 2
   },
   "outputs": [],
   "source": [
    "data = xr.open_dataset(get_test_data(\"narr_example.nc\", False))\n",
    "data = data.metpy.parse_cf().squeeze()"
   ]
  },
  {
   "cell_type": "markdown",
   "id": "605a3239",
   "metadata": {},
   "source": [
    "Define endpoints for cross section"
   ]
  },
  {
   "cell_type": "code",
   "execution_count": null,
   "id": "30cb8919",
   "metadata": {
    "lines_to_next_cell": 2
   },
   "outputs": [],
   "source": [
    "start = (37.0, -105.0)\n",
    "end = (35.5, -65.0)"
   ]
  },
  {
   "cell_type": "markdown",
   "id": "387b829d",
   "metadata": {},
   "source": [
    "Calculate cross section"
   ]
  },
  {
   "cell_type": "code",
   "execution_count": null,
   "id": "a79ad656",
   "metadata": {
    "lines_to_next_cell": 2
   },
   "outputs": [],
   "source": [
    "cross = cross_section(data, start, end).set_coords((\"lat\", \"lon\"))"
   ]
  },
  {
   "cell_type": "markdown",
   "id": "487f6b2f",
   "metadata": {},
   "source": [
    "Produce calculations along plane of cross section"
   ]
  },
  {
   "cell_type": "code",
   "execution_count": null,
   "id": "ba3a841f",
   "metadata": {
    "lines_to_next_cell": 2
   },
   "outputs": [],
   "source": [
    "cross[\"Potential_temperature\"] = mpcalc.potential_temperature(\n",
    "    cross[\"isobaric\"], cross[\"Temperature\"]\n",
    ")\n",
    "cross[\"Relative_humidity\"] = mpcalc.relative_humidity_from_specific_humidity(\n",
    "    cross[\"isobaric\"], cross[\"Temperature\"], cross[\"Specific_humidity\"]\n",
    ")\n",
    "cross[\"u_wind\"] = cross[\"u_wind\"].metpy.convert_units(\"knots\")\n",
    "cross[\"v_wind\"] = cross[\"v_wind\"].metpy.convert_units(\"knots\")\n",
    "cross[\"t_wind\"], cross[\"n_wind\"] = mpcalc.cross_section_components(\n",
    "    cross[\"u_wind\"], cross[\"v_wind\"]\n",
    ")"
   ]
  },
  {
   "cell_type": "markdown",
   "id": "a675a4e2",
   "metadata": {},
   "source": [
    "Create figure"
   ]
  },
  {
   "cell_type": "code",
   "execution_count": null,
   "id": "18245b85",
   "metadata": {},
   "outputs": [],
   "source": [
    "fig = plt.figure(1, figsize=(18, 9))\n",
    "ax = plt.axes()"
   ]
  },
  {
   "cell_type": "code",
   "execution_count": null,
   "id": "3c7f0752",
   "metadata": {},
   "outputs": [],
   "source": [
    "rh_contour = ax.contourf(\n",
    "    cross[\"index\"],\n",
    "    cross[\"isobaric\"],\n",
    "    cross[\"Relative_humidity\"],\n",
    "    levels=np.arange(0, 1.05, 0.05),\n",
    "    cmap=\"YlGnBu\",\n",
    ")"
   ]
  },
  {
   "cell_type": "code",
   "execution_count": null,
   "id": "1f918117",
   "metadata": {},
   "outputs": [],
   "source": [
    "rh_colorbar = fig.colorbar(rh_contour)"
   ]
  },
  {
   "cell_type": "code",
   "execution_count": null,
   "id": "57dfe95a",
   "metadata": {},
   "outputs": [],
   "source": [
    "theta_contour = ax.contour(\n",
    "    cross[\"index\"],\n",
    "    cross[\"isobaric\"],\n",
    "    cross[\"Potential_temperature\"],\n",
    "    levels=np.arange(250, 450, 5),\n",
    "    colors=\"k\",\n",
    "    linewidths=2,\n",
    ")"
   ]
  },
  {
   "cell_type": "code",
   "execution_count": null,
   "id": "24c2709e",
   "metadata": {},
   "outputs": [],
   "source": [
    "theta_contour.clabel(\n",
    "    theta_contour.levels[1::2],\n",
    "    fontsize=8,\n",
    "    colors=\"k\",\n",
    "    inline=1,\n",
    "    inline_spacing=8,\n",
    "    fmt=\"%i\",\n",
    "    rightside_up=True,\n",
    "    use_clabeltext=True,\n",
    ")"
   ]
  },
  {
   "cell_type": "code",
   "execution_count": null,
   "id": "300eaf78",
   "metadata": {},
   "outputs": [],
   "source": [
    "wind_slc_vert = list(range(0, 19, 2)) + list(range(19, 29))\n",
    "wind_slc_horz = slice(5, 100, 5)"
   ]
  },
  {
   "cell_type": "code",
   "execution_count": null,
   "id": "cfe7c219",
   "metadata": {},
   "outputs": [],
   "source": [
    "ax.barbs(\n",
    "    cross[\"index\"][wind_slc_horz],\n",
    "    cross[\"isobaric\"][wind_slc_vert],\n",
    "    cross[\"t_wind\"][wind_slc_vert, wind_slc_horz],\n",
    "    cross[\"n_wind\"][wind_slc_vert, wind_slc_horz],\n",
    "    color=\"k\",\n",
    ")"
   ]
  },
  {
   "cell_type": "code",
   "execution_count": null,
   "id": "eabe2bb3",
   "metadata": {},
   "outputs": [],
   "source": [
    "# Create x-axis ticks for lat, lon pairs\n",
    "xticks = np.arange(10, 100, 15)\n",
    "ax.set_xticks(xticks)"
   ]
  },
  {
   "cell_type": "code",
   "execution_count": null,
   "id": "6a1ddd49",
   "metadata": {},
   "outputs": [],
   "source": [
    "# Adjust y-axis to log-scale and define pressure level ticks\n",
    "ax.set_yscale(\"symlog\")\n",
    "ax.set_ylim(cross[\"isobaric\"].max(), cross[\"isobaric\"].min())\n",
    "ax.set_yticks(np.arange(1000, 50, -100))"
   ]
  },
  {
   "cell_type": "code",
   "execution_count": null,
   "id": "d94f17bd",
   "metadata": {},
   "outputs": [],
   "source": [
    "# Get Cartopy CRS object via MetPy xarray accessor\n",
    "# and create inset map\n",
    "data_crs = data[\"Geopotential_height\"].metpy.cartopy_crs\n",
    "ax_inset = fig.add_axes([0.125, 0.654, 0.25, 0.25], projection=data_crs)"
   ]
  },
  {
   "cell_type": "code",
   "execution_count": null,
   "id": "128837a5",
   "metadata": {},
   "outputs": [],
   "source": [
    "ax_inset.contour(\n",
    "    data[\"x\"],\n",
    "    data[\"y\"],\n",
    "    data[\"Geopotential_height\"].sel(isobaric=500.0),\n",
    "    levels=np.arange(5100, 6000, 60),\n",
    "    cmap=\"inferno\",\n",
    ")"
   ]
  },
  {
   "cell_type": "code",
   "execution_count": null,
   "id": "005fc7b8",
   "metadata": {},
   "outputs": [],
   "source": [
    "# Mark ends of cross section path and draw a line between\n",
    "endpoints = data_crs.transform_points(\n",
    "    ccrs.Geodetic(), *np.vstack([start, end]).transpose()[::-1]\n",
    ")\n",
    "ax_inset.scatter(endpoints[:, 0], endpoints[:, 1], c=\"k\", zorder=2)\n",
    "ax_inset.plot(cross[\"x\"], cross[\"y\"], c=\"k\", zorder=2)"
   ]
  },
  {
   "cell_type": "code",
   "execution_count": null,
   "id": "e52bb443",
   "metadata": {
    "lines_to_next_cell": 2
   },
   "outputs": [],
   "source": [
    "# Add geographic features\n",
    "ax_inset.coastlines()\n",
    "ax_inset.add_feature(cfeature.STATES.with_scale(\"50m\"), edgecolor=\"k\", alpha=0.2, zorder=0)"
   ]
  },
  {
   "cell_type": "code",
   "execution_count": null,
   "id": "509c25ce",
   "metadata": {},
   "outputs": [],
   "source": [
    "# Set axis and tick labels\n",
    "ax.set_xticklabels(\n",
    "    [\n",
    "        f\"{lat:.4}, {lon:.4}\"\n",
    "        for (lat, lon) in zip(\n",
    "            cross[\"lat\"].sel(index=xticks).values, cross[\"lon\"].sel(index=xticks).values\n",
    "        )\n",
    "    ]\n",
    ")\n",
    "ax.set_yticklabels(np.arange(1000, 50, -100))\n",
    "ax.set_ylabel(f\"Pressure (hPa)\")\n",
    "ax.set_xlabel(\"Latitude (degrees north), Longitude (degrees east)\")\n",
    "rh_colorbar.set_label(\"Relative Humidity\")"
   ]
  },
  {
   "cell_type": "code",
   "execution_count": null,
   "id": "4acf2ff3",
   "metadata": {
    "lines_to_next_cell": 2
   },
   "outputs": [],
   "source": [
    "fig.savefig(\"images/fig3_cross_section.png\", dpi=600, bbox_inches=\"tight\")"
   ]
  },
  {
   "cell_type": "markdown",
   "id": "ce346f0b",
   "metadata": {},
   "source": [
    "### Draft caption\n",
    "Vertical cross section of relative humidity (shaded, dimensionless), potential temperature (contours, K), and wind (barbs, knots) components tangential and normal to the plane of the cross section. Latitude, longitude coordinates along the cross section path are provided along the x-axis, vertical pressure levels are provided along the y-axis. Inset (top-left corner) is a map of the trace of the cross-section and contours of 500 hPa geopotential height. Data from North American Regional Reanalysis (NARR) valid April 04 1987 1800UTC."
   ]
  }
 ],
 "metadata": {
  "jupytext": {
   "cell_metadata_filter": "-all",
   "main_language": "python",
   "notebook_metadata_filter": "-all"
  }
 },
 "nbformat": 4,
 "nbformat_minor": 5
}
