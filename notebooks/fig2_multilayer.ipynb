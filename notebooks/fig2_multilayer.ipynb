{
 "cells": [
  {
   "cell_type": "markdown",
   "id": "b82a1529",
   "metadata": {},
   "source": [
    "# Figure 2\n",
    "## Layered plot of multiple data products and calculations provided by Siphon and MetPy\n",
    "Adapted from https://github.com/Unidata/metpy-workshop/blob/main/notebooks/solutions/workshop_solutions.ipynb."
   ]
  },
  {
   "cell_type": "code",
   "execution_count": null,
   "id": "56cb2f1c",
   "metadata": {},
   "outputs": [],
   "source": [
    "from datetime import datetime\n",
    "\n",
    "import cartopy.crs as ccrs\n",
    "import cartopy.feature as cfeature\n",
    "import matplotlib.pyplot as plt\n",
    "from matplotlib.patheffects import withStroke\n",
    "\n",
    "import metpy.calc as mpcalc\n",
    "import metpy.plots as mpplots\n",
    "from metpy.io import parse_metar_file\n",
    "from metpy.units import pandas_dataframe_to_unit_arrays\n",
    "from siphon.catalog import TDSCatalog"
   ]
  },
  {
   "cell_type": "markdown",
   "id": "fc91c5c4",
   "metadata": {},
   "source": [
    "Access near-real-time satellite data remotely from UCAR/Unidata's THREDDS Data Server (TDS)."
   ]
  },
  {
   "cell_type": "code",
   "execution_count": null,
   "id": "fab1ad4b",
   "metadata": {},
   "outputs": [],
   "source": [
    "satcat = TDSCatalog(\n",
    "    \"https://thredds.ucar.edu/thredds/catalog/satellite/goes/east/products/CloudAndMoistureImagery/CONUS/Channel02/current/catalog.xml\"\n",
    ")\n",
    "satdata = satcat.datasets[0].remote_access(use_xarray=True)"
   ]
  },
  {
   "cell_type": "code",
   "execution_count": null,
   "id": "9b8dfbb4",
   "metadata": {},
   "outputs": [],
   "source": [
    "cmi = satdata.metpy.parse_cf(\"Sectorized_CMI\")\n",
    "dt = datetime.strptime(satdata.attrs[\"start_date_time\"], \"%Y%j%H%M%S\")"
   ]
  },
  {
   "cell_type": "markdown",
   "id": "6866b15d",
   "metadata": {},
   "source": [
    "Access Real Time Mesoscale Analysis (RTMA) output remotely from the same TDS."
   ]
  },
  {
   "cell_type": "code",
   "execution_count": null,
   "id": "e9d4e5e8",
   "metadata": {},
   "outputs": [],
   "source": [
    "rtma_cat = TDSCatalog(\n",
    "    \"https://thredds.ucar.edu/thredds/catalog/grib/NCEP/RTMA/CONUS_2p5km/catalog.xml\"\n",
    ")\n",
    "rtma_data = rtma_cat.datasets[\"Full Collection Dataset\"].remote_access(use_xarray=True)\n",
    "rtma_data = rtma_data.metpy.parse_cf()"
   ]
  },
  {
   "cell_type": "code",
   "execution_count": null,
   "id": "e18e75c2",
   "metadata": {},
   "outputs": [],
   "source": [
    "pres = rtma_data.Pressure_Analysis_surface.metpy.sel(time=dt, method=\"nearest\").squeeze()\n",
    "temp = rtma_data.Temperature_Analysis_height_above_ground.metpy.sel(\n",
    "    time=dt, method=\"nearest\"\n",
    ").squeeze()\n",
    "dewp = rtma_data.Dewpoint_temperature_Analysis_height_above_ground.metpy.sel(\n",
    "    time=dt, method=\"nearest\"\n",
    ").squeeze()\n",
    "theta_e = mpcalc.equivalent_potential_temperature(pres, temp, dewp)"
   ]
  },
  {
   "cell_type": "code",
   "execution_count": null,
   "id": "6f9275bf",
   "metadata": {},
   "outputs": [],
   "source": [
    "theta_e = mpcalc.smooth_gaussian(theta_e, n=50)"
   ]
  },
  {
   "cell_type": "code",
   "execution_count": null,
   "id": "e9ca6752",
   "metadata": {},
   "outputs": [],
   "source": [
    "rtma_crs = theta_e.metpy.cartopy_crs"
   ]
  },
  {
   "cell_type": "markdown",
   "id": "99ca1b77",
   "metadata": {},
   "source": [
    "Access near-real-time surface observations as text METAR reports from Unidata's THREDDS-test testing TDS."
   ]
  },
  {
   "cell_type": "code",
   "execution_count": null,
   "id": "ae5df8ba",
   "metadata": {},
   "outputs": [],
   "source": [
    "metar_cat = TDSCatalog(\n",
    "    \"https://thredds-test.unidata.ucar.edu/thredds/catalog/noaaport/text/metar/catalog.xml\"\n",
    ")\n",
    "metar_text = metar_cat.datasets.filter_time_nearest(dt).remote_open(mode=\"t\")"
   ]
  },
  {
   "cell_type": "code",
   "execution_count": null,
   "id": "67ea2d81",
   "metadata": {},
   "outputs": [],
   "source": [
    "sfc_data = parse_metar_file(metar_text, year=dt.year, month=dt.month)"
   ]
  },
  {
   "cell_type": "code",
   "execution_count": null,
   "id": "dc82e93a",
   "metadata": {},
   "outputs": [],
   "source": [
    "sfc_units = sfc_data.units"
   ]
  },
  {
   "cell_type": "code",
   "execution_count": null,
   "id": "9b0acac0",
   "metadata": {},
   "outputs": [],
   "source": [
    "sfc_data = pandas_dataframe_to_unit_arrays(sfc_data, sfc_units)"
   ]
  },
  {
   "cell_type": "code",
   "execution_count": null,
   "id": "4184d457",
   "metadata": {},
   "outputs": [],
   "source": [
    "locs = rtma_crs.transform_points(\n",
    "    ccrs.PlateCarree(), sfc_data[\"longitude\"].m, sfc_data[\"latitude\"].m\n",
    ")"
   ]
  },
  {
   "cell_type": "code",
   "execution_count": null,
   "id": "06735fd4",
   "metadata": {},
   "outputs": [],
   "source": [
    "plot_mask = mpcalc.reduce_point_density(\n",
    "    locs[..., :2], 175000, priority=sfc_data[\"current_wx1_symbol\"]\n",
    ")"
   ]
  },
  {
   "cell_type": "code",
   "execution_count": null,
   "id": "16a5629e",
   "metadata": {},
   "outputs": [],
   "source": [
    "fig = plt.figure(figsize=(18, 9))\n",
    "ax = fig.add_subplot(projection=rtma_crs)"
   ]
  },
  {
   "cell_type": "code",
   "execution_count": null,
   "id": "329931ac",
   "metadata": {},
   "outputs": [],
   "source": [
    "image_extent = (cmi.metpy.x[0], cmi.metpy.x[-1], cmi.metpy.y[0], cmi.metpy.y[-1])\n",
    "ax.imshow(\n",
    "    cmi,\n",
    "    extent=image_extent,\n",
    "    origin=\"lower\",\n",
    "    cmap=\"Greys_r\",\n",
    "    regrid_shape=6000,\n",
    "    transform=cmi.metpy.cartopy_crs,\n",
    ")"
   ]
  },
  {
   "cell_type": "code",
   "execution_count": null,
   "id": "2ac3364c",
   "metadata": {},
   "outputs": [],
   "source": [
    "ax.contour(\n",
    "    theta_e.metpy.x,\n",
    "    theta_e.metpy.y,\n",
    "    theta_e,\n",
    "    levels=range(240, 400, 8),\n",
    "    colors=\"tab:blue\",\n",
    "    transform=theta_e.metpy.cartopy_crs,\n",
    ")"
   ]
  },
  {
   "cell_type": "code",
   "execution_count": null,
   "id": "b93fdd5e",
   "metadata": {},
   "outputs": [],
   "source": [
    "stn = mpplots.StationPlot(\n",
    "    ax,\n",
    "    sfc_data[\"longitude\"][plot_mask].m,\n",
    "    sfc_data[\"latitude\"][plot_mask].m,\n",
    "    transform=ccrs.PlateCarree(),\n",
    "    fontsize=11,\n",
    "    zorder=10,\n",
    "    clip_on=True,\n",
    ")\n",
    "stn.plot_parameter(\n",
    "    \"NW\",\n",
    "    sfc_data[\"air_temperature\"][plot_mask],\n",
    "    color=[1.0, 0.3, 0.3],\n",
    "    path_effects=[withStroke(linewidth=1, foreground=\"black\")],\n",
    ")\n",
    "stn.plot_parameter(\n",
    "    \"SW\",\n",
    "    sfc_data[\"dew_point_temperature\"][plot_mask],\n",
    "    color=[0.6, 0.6, 1.0],\n",
    "    path_effects=[withStroke(linewidth=1, foreground=\"black\")],\n",
    ")\n",
    "stn.plot_symbol(\"C\", sfc_data[\"cloud_coverage\"][plot_mask], mpplots.sky_cover, color=\"white\")\n",
    "stn.plot_symbol(\n",
    "    \"E\",\n",
    "    sfc_data[\"current_wx1_symbol\"][plot_mask],\n",
    "    mpplots.current_weather,\n",
    "    color=[0.6, 0.6, 1.0],\n",
    "    path_effects=[withStroke(linewidth=1, foreground=\"black\")],\n",
    ")\n",
    "stn.plot_barb(\n",
    "    sfc_data[\"eastward_wind\"][plot_mask],\n",
    "    sfc_data[\"northward_wind\"][plot_mask],\n",
    "    color=\"white\",\n",
    ")"
   ]
  },
  {
   "cell_type": "code",
   "execution_count": null,
   "id": "4084175d",
   "metadata": {},
   "outputs": [],
   "source": [
    "ax.add_feature(cfeature.BORDERS, color=\"yellow\")\n",
    "ax.add_feature(cfeature.COASTLINE, color=\"yellow\")\n",
    "ax.set_extent((-113, -70, 25, 45))"
   ]
  },
  {
   "cell_type": "code",
   "execution_count": null,
   "id": "1408c980",
   "metadata": {},
   "outputs": [],
   "source": [
    "fig.savefig(\"images/fig2_multilayer.png\", dpi=600, bbox_inches=\"tight\")\n",
    "print(f\"For caption: {dt:%H%M} UTC {dt:%d %B %Y}\")"
   ]
  },
  {
   "cell_type": "markdown",
   "id": "dfa5a8ae",
   "metadata": {},
   "source": [
    "### Draft caption\n",
    "Map of the continental U.S. with background GOES-16 Channel 02 imagery, overlayed with contours of potential temperature calculated from Real-Time Mesoscale Analysis (RTMA) output and station models of surface observations from a collection of surface observation METARs. All products valid {date of production}."
   ]
  }
 ],
 "metadata": {
  "jupytext": {
   "cell_metadata_filter": "-all",
   "main_language": "python",
   "notebook_metadata_filter": "-all"
  }
 },
 "nbformat": 4,
 "nbformat_minor": 5
}
