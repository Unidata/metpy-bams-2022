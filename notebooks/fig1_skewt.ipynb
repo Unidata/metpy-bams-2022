{
 "cells": [
  {
   "cell_type": "markdown",
   "id": "e10971b5",
   "metadata": {},
   "source": [
    "# Figure 1\n",
    "## Creating a Skew-T representation of an atmospheric profile with remotely accessed data\n",
    "Provided by rpmanser (co-author)."
   ]
  },
  {
   "cell_type": "code",
   "execution_count": null,
   "id": "8657fa74",
   "metadata": {},
   "outputs": [],
   "source": [
    "from datetime import datetime\n",
    "\n",
    "import matplotlib.pyplot as plt\n",
    "import numpy as np\n",
    "from matplotlib import rcParams\n",
    "from mpl_toolkits.axes_grid1.inset_locator import inset_axes\n",
    "\n",
    "import metpy.calc as mpcalc\n",
    "from metpy.plots import Hodograph, SkewT\n",
    "from metpy.units import units\n",
    "from siphon.simplewebservice.wyoming import WyomingUpperAir"
   ]
  },
  {
   "cell_type": "code",
   "execution_count": null,
   "id": "9a47db2f",
   "metadata": {},
   "outputs": [],
   "source": [
    "label_sizes = {\"xtick.labelsize\": 12, \"ytick.labelsize\": 12, \"axes.labelsize\": 14}"
   ]
  },
  {
   "cell_type": "code",
   "execution_count": null,
   "id": "4fab4acc",
   "metadata": {},
   "outputs": [],
   "source": [
    "rcParams.update(label_sizes)"
   ]
  },
  {
   "cell_type": "code",
   "execution_count": null,
   "id": "16ce0f0c",
   "metadata": {},
   "outputs": [],
   "source": [
    "time = datetime(2011, 5, 22, 12)\n",
    "station = \"TOP\"\n",
    "df = WyomingUpperAir.request_data(time, station)"
   ]
  },
  {
   "cell_type": "code",
   "execution_count": null,
   "id": "d878c237",
   "metadata": {},
   "outputs": [],
   "source": [
    "df = df.dropna(\n",
    "    subset=(\"temperature\", \"dewpoint\", \"direction\", \"speed\"), how=\"all\"\n",
    ").reset_index(drop=True)"
   ]
  },
  {
   "cell_type": "code",
   "execution_count": null,
   "id": "ecc6f538",
   "metadata": {},
   "outputs": [],
   "source": [
    "df = df.drop(df.index[np.append(np.diff(df[\"pressure\"]) >= 0, False)])"
   ]
  },
  {
   "cell_type": "code",
   "execution_count": null,
   "id": "d1c51ed7",
   "metadata": {},
   "outputs": [],
   "source": [
    "p = df[\"pressure\"].values * units.hPa\n",
    "T = df[\"temperature\"].values * units.degC\n",
    "Td = df[\"dewpoint\"].values * units.degC\n",
    "wind_speed = df[\"speed\"].values * units.knots\n",
    "wind_dir = df[\"direction\"].values * units.degrees\n",
    "u, v = mpcalc.wind_components(wind_speed, wind_dir)\n",
    "hght = df[\"height\"].values * units.meter"
   ]
  },
  {
   "cell_type": "code",
   "execution_count": null,
   "id": "0f441ed6",
   "metadata": {},
   "outputs": [],
   "source": [
    "below_100_hpa = p >= 101.0 * units.hPa"
   ]
  },
  {
   "cell_type": "code",
   "execution_count": null,
   "id": "5ca9508a",
   "metadata": {},
   "outputs": [],
   "source": [
    "prof = mpcalc.parcel_profile(p, T[0], Td[0]).to(\"degC\")\n",
    "li = mpcalc.lifted_index(p, T, prof)[0]\n",
    "cape, cin = mpcalc.cape_cin(p, T, Td, prof)\n",
    "lcl_pressure, lcl_temperature = mpcalc.lcl(p[0], T[0], Td[0])\n",
    "lfc_pressure, lfc_temperature = mpcalc.lfc(p, T, Td, prof)\n",
    "el_pressure, el_temperature = mpcalc.el(p, T, Td, prof)"
   ]
  },
  {
   "cell_type": "code",
   "execution_count": null,
   "id": "1954d233",
   "metadata": {},
   "outputs": [],
   "source": [
    "indices = f\"\"\"CAPE = {cape:.0f~P}\n",
    "CIN = {cin:.0f~P}\n",
    "LI = {li.m:.0f}\n",
    "LCL = {lcl_pressure:.0f~P}\n",
    "LFC = {lfc_pressure:.0f~P}\n",
    "EL = {el_pressure:.0f~P}\"\"\""
   ]
  },
  {
   "cell_type": "code",
   "execution_count": null,
   "id": "b0a00d75",
   "metadata": {},
   "outputs": [],
   "source": [
    "fig = plt.figure(figsize=(12, 12))\n",
    "skew = SkewT(fig, rotation=45)"
   ]
  },
  {
   "cell_type": "code",
   "execution_count": null,
   "id": "f5a2bd94",
   "metadata": {},
   "outputs": [],
   "source": [
    "# Plot the data using normal plotting functions, in this case using\n",
    "# log scaling in Y, as dictated by the typical meteorological plot.\n",
    "skew.plot(p, T, \"r\")\n",
    "skew.plot(p, Td, \"g\")\n",
    "skew.plot_barbs(p[below_100_hpa], u[below_100_hpa], v[below_100_hpa])\n",
    "skew.ax.set_ylim(1000, 100)\n",
    "skew.ax.set_xlim(-40, 60)"
   ]
  },
  {
   "cell_type": "code",
   "execution_count": null,
   "id": "4726bb51",
   "metadata": {},
   "outputs": [],
   "source": [
    "# Calculate LCL height and plot as black dot. Because `p`'s first value is\n",
    "# ~1000 mb and its last value is ~250 mb, the `0` index is selected for\n",
    "# `p`, `T`, and `Td` to lift the parcel from the surface. If `p` was inverted,\n",
    "# i.e. start from low value, 250 mb, to a high value, 1000 mb, the `-1` index\n",
    "# should be selected.\n",
    "skew.plot(lcl_pressure, lcl_temperature, \"ko\", markerfacecolor=\"black\")"
   ]
  },
  {
   "cell_type": "code",
   "execution_count": null,
   "id": "e8305c0e",
   "metadata": {},
   "outputs": [],
   "source": [
    "# Calculate full parcel profile and add to plot as black line\n",
    "skew.plot(p, prof, \"k\", linewidth=2)"
   ]
  },
  {
   "cell_type": "code",
   "execution_count": null,
   "id": "24c38db1",
   "metadata": {},
   "outputs": [],
   "source": [
    "# Shade areas of CAPE and CIN\n",
    "skew.shade_cin(p, T, prof, Td)\n",
    "skew.shade_cape(p, T, prof)"
   ]
  },
  {
   "cell_type": "code",
   "execution_count": null,
   "id": "902aab16",
   "metadata": {},
   "outputs": [],
   "source": [
    "# An example of a slanted line at constant T -- in this case the 0\n",
    "# isotherm\n",
    "skew.ax.axvline(0, color=\"c\", linestyle=\"--\", linewidth=2)"
   ]
  },
  {
   "cell_type": "code",
   "execution_count": null,
   "id": "897c4f11",
   "metadata": {},
   "outputs": [],
   "source": [
    "# Add the relevant special lines\n",
    "skew.plot_dry_adiabats()\n",
    "skew.plot_moist_adiabats()\n",
    "skew.plot_mixing_lines()"
   ]
  },
  {
   "cell_type": "code",
   "execution_count": null,
   "id": "2dda898b",
   "metadata": {},
   "outputs": [],
   "source": [
    "fig.text(0.14, 0.21, indices, size=14, ha=\"left\", bbox=dict(boxstyle=\"square\", fc=\"white\"))"
   ]
  },
  {
   "cell_type": "code",
   "execution_count": null,
   "id": "e3cc9d25",
   "metadata": {},
   "outputs": [],
   "source": [
    "skew.ax.set_ylabel(f\"Pressure ({p.units:~P})\")\n",
    "skew.ax.set_xlabel(rf\"Temperature (${T.units:~L}$)\")\n",
    "# skew.ax.set_title(\"KTOP 2011-05-22 1200 UTC\")"
   ]
  },
  {
   "cell_type": "code",
   "execution_count": null,
   "id": "70b21955",
   "metadata": {},
   "outputs": [],
   "source": [
    "ax_hodo = inset_axes(skew.ax, \"40%\", \"40%\", loc=1)\n",
    "hodo = Hodograph(ax_hodo, component_range=80.0)\n",
    "hodo.add_grid(increment=20)\n",
    "hodo.plot_colormapped(u[below_100_hpa], v[below_100_hpa], hght[below_100_hpa])\n",
    "ax_hodo.set_yticks(range(-50, 51, 50))"
   ]
  },
  {
   "cell_type": "code",
   "execution_count": null,
   "id": "8dd09f89",
   "metadata": {},
   "outputs": [],
   "source": [
    "fig.savefig(\"images/fig1_skewt.png\", dpi=600, bbox_inches=\"tight\")"
   ]
  },
  {
   "cell_type": "markdown",
   "id": "1be562fe",
   "metadata": {},
   "source": [
    "### Draft caption\n",
    "Vertical profile of the atmosphere, valid from Topeka (TOP) May 22 2011 1200 UTC, presented on a Skew-T log-p diagram. Shown are observed temperature (red line), dewpoint temperature (green line), calculated parcel profile trace (black line), and 0-degree isotherm (blue line, dashed), and wind barbs (knots, right axis), with shaded areas for CIN (blue shaded) and CAPE (red shaded.) MetPy-calculated indices are inset in the lower-left, and a hodograph presented in the upper-right."
   ]
  }
 ],
 "metadata": {
  "jupytext": {
   "cell_metadata_filter": "-all",
   "main_language": "python",
   "notebook_metadata_filter": "-all"
  }
 },
 "nbformat": 4,
 "nbformat_minor": 5
}
