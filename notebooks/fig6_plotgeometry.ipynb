{
 "cells": [
  {
   "cell_type": "markdown",
   "id": "f66ce1bb",
   "metadata": {},
   "source": [
    "# Figure 6\n",
    "## PlotGeometry Example\n",
    "Adapted from https://unidata.github.io/MetPy/v1.3/examples/plots/spc_convective_outlook.html."
   ]
  },
  {
   "cell_type": "code",
   "execution_count": null,
   "id": "7a325064",
   "metadata": {},
   "outputs": [],
   "source": [
    "import geopandas\n",
    "\n",
    "# get_test_data is used for internal MetPy testing and not supported publicly\n",
    "from metpy.cbook import get_test_data\n",
    "from metpy.plots import MapPanel, PanelContainer, PlotGeometry"
   ]
  },
  {
   "cell_type": "markdown",
   "id": "19e95538",
   "metadata": {},
   "source": [
    "Read SPC Day 1 Outlook valid 1200 UTC 17 March 2021. GeoJSON originally from SPC archive, provided as part of MetPy's internal testing data."
   ]
  },
  {
   "cell_type": "code",
   "execution_count": null,
   "id": "5330fd77",
   "metadata": {
    "lines_to_next_cell": 2
   },
   "outputs": [],
   "source": [
    "day1_outlook = geopandas.read_file(get_test_data(\"spc_day1otlk_20210317_1200_lyr.geojson\"))"
   ]
  },
  {
   "cell_type": "markdown",
   "id": "a0cdfca7",
   "metadata": {},
   "source": [
    "Use Declarative's PlotGeometry interfact to visualize geographic information,"
   ]
  },
  {
   "cell_type": "code",
   "execution_count": null,
   "id": "e3fde961",
   "metadata": {},
   "outputs": [],
   "source": [
    "geo = PlotGeometry()\n",
    "geo.geometry = day1_outlook[\"geometry\"]\n",
    "geo.fill = day1_outlook[\"fill\"]\n",
    "geo.stroke = day1_outlook[\"stroke\"]\n",
    "geo.labels = day1_outlook[\"LABEL\"]\n",
    "geo.label_fontsize = \"large\""
   ]
  },
  {
   "cell_type": "markdown",
   "id": "3f2c133c",
   "metadata": {},
   "source": [
    "Declarative MapPanel gives a plotting `axes` to work with Cartopy under the hood."
   ]
  },
  {
   "cell_type": "code",
   "execution_count": null,
   "id": "7f8d67c3",
   "metadata": {},
   "outputs": [],
   "source": [
    "panel = MapPanel()\n",
    "panel.title = \" \"\n",
    "panel.title_fontsize = 18\n",
    "panel.plots = [geo]\n",
    "panel.area = [-120, -75, 25, 50]\n",
    "panel.projection = \"lcc\"\n",
    "panel.layers = [\"lakes\", \"land\", \"ocean\", \"states\", \"coastline\", \"borders\"]"
   ]
  },
  {
   "cell_type": "markdown",
   "id": "24627c80",
   "metadata": {},
   "source": [
    "Wrap it all in a figure and save to an image."
   ]
  },
  {
   "cell_type": "code",
   "execution_count": null,
   "id": "c04bcda3",
   "metadata": {},
   "outputs": [],
   "source": [
    "pc = PanelContainer()\n",
    "pc.size = (18, 9)\n",
    "pc.panels = [panel]\n",
    "pc.save(\"images/fig6_plotgeometry.png\", dpi=600, bbox_inches=\"tight\")"
   ]
  },
  {
   "cell_type": "markdown",
   "id": "7dba78ba",
   "metadata": {},
   "source": [
    "### Draft caption\n",
    "NOAA/NWS Storm Prediction Center (SPC) March 17 2021 1200 UTC Day 1 Convective Outlook recreated using metpy.plots.PlotGeometry. PlotGeometry is provided as part of MetPy's declarative plotting interface. Data from SPC GeoJSON archive."
   ]
  }
 ],
 "metadata": {
  "jupytext": {
   "cell_metadata_filter": "-all",
   "main_language": "python",
   "notebook_metadata_filter": "-all"
  }
 },
 "nbformat": 4,
 "nbformat_minor": 5
}
